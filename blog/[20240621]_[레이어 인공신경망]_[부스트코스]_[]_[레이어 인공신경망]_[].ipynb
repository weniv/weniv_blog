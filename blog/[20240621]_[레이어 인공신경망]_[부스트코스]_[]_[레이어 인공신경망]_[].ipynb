{
 "cells": [
  {
   "cell_type": "markdown",
   "metadata": {
    "id": "6mU6d5SqUT9R"
   },
   "source": [
    "# [코드리뷰 프로젝트] 2. 2레이어 인공신경망 심화"
   ]
  },
  {
   "cell_type": "markdown",
   "metadata": {
    "id": "hxH1WsE3DGq0"
   },
   "source": [
    "## 0. 모델 세팅 & 포워딩 연산 구현하기"
   ]
  },
  {
   "cell_type": "code",
   "execution_count": 1,
   "metadata": {
    "id": "xzZbKuGRUTM-"
   },
   "outputs": [
    {
     "name": "stdout",
     "output_type": "stream",
     "text": [
      "[[0 0 1 1]\n",
      " [0 1 0 1]]\n",
      "[[0 1 1 0]]\n"
     ]
    }
   ],
   "source": [
    "import numpy as np # numpy import\n",
    "X = np.array([0, 0, 1, 1, 0, 1, 0, 1]).reshape(2,4) # 입력\n",
    "Y = np.array([0, 1, 1, 0]).reshape(1,4) # 정답\n",
    "\n",
    "print(X)\n",
    "print(Y)"
   ]
  },
  {
   "cell_type": "code",
   "execution_count": 21,
   "metadata": {
    "id": "-QJFXmvYU5rW"
   },
   "outputs": [
    {
     "name": "stdout",
     "output_type": "stream",
     "text": [
      "[[3]\n",
      " [6]]\n",
      "0.52497918747894\n"
     ]
    }
   ],
   "source": [
    "# 가중치 초기화 함수\n",
    "def init_parameters(num_hidden_units = 2):\n",
    "  W1 = np.random.randn(2, num_hidden_units) # 첫번째 레이어 가중치\n",
    "  B1 = np.zeros((num_hidden_units,1)) # 첫번째 레이어 바이어스\n",
    "  W2 = np.random.randn(num_hidden_units, 1) # 두번째 레이어 가중치\n",
    "  B2 = np.zeros((1, 1)) # 두번째 레이어의 바이어스\n",
    "  return W1, B1, W2, B2 # 가중치 파라미터 리턴\n",
    "\n",
    "#--------------------------------------------------------------------------------------------------------------------------------------\n",
    "# Affine transform을 구현하세요.\n",
    "def affine(W, X, B):\n",
    "    return np.dot(W, X) + B\n",
    "\n",
    "def sigmoid(z):\n",
    "    return 1 / (1 + np.exp(-z))\n",
    "\n",
    "w = np.array([[1, 1], [2, 2]])\n",
    "b = [[1],[2]]\n",
    "x = [[1],[1]]\n",
    "\n",
    "print(affine(w, x, b)) # affine test -> [[3],[6]]\n",
    "\n",
    "print(sigmoid(0.1)) # sigmoide test -> 0.524979"
   ]
  },
  {
   "cell_type": "markdown",
   "metadata": {
    "id": "52B1tG3uVM1z"
   },
   "source": [
    "## 1. 손실함수 만들기\n"
   ]
  },
  {
   "cell_type": "markdown",
   "metadata": {
    "id": "LbJ4JGZFNQEf"
   },
   "source": [
    "### [TODO] 1_ 이진 크로스 엔트로피 (Binary Cross Entropy)"
   ]
  },
  {
   "cell_type": "code",
   "execution_count": 25,
   "metadata": {
    "id": "qjgkC13zVRxD"
   },
   "outputs": [],
   "source": [
    "def binary_cross_entropy(Y, YHat):\n",
    "    N = Y.shape[1]  # 총 샘플의 수\n",
    "    loss = -np.sum(Y * np.log(YHat) + (1 - Y) * np.log(1 - YHat)) / N\n",
    "    return loss"
   ]
  },
  {
   "cell_type": "code",
   "execution_count": 26,
   "metadata": {},
   "outputs": [],
   "source": [
    "def init_parameters(num_hidden_units):\n",
    "    np.random.seed(42)  # 랜덤 시드 고정\n",
    "    W1 = np.random.randn(num_hidden_units, 2)  # 입력 크기는 2로 가정\n",
    "    B1 = np.random.randn(num_hidden_units, 1)\n",
    "    W2 = np.random.randn(1, num_hidden_units)\n",
    "    B2 = np.random.randn(1, 1)\n",
    "    return W1, B1, W2, B2"
   ]
  },
  {
   "cell_type": "markdown",
   "metadata": {
    "id": "QrIqVlXgVafD"
   },
   "source": [
    "## 2. 순방향(forward) 및 역방향(backward) 연산 구현하기"
   ]
  },
  {
   "cell_type": "markdown",
   "metadata": {
    "id": "NAvYPE1dNcr4"
   },
   "source": [
    "### [TODO] 2_ 2레이어 순방향 연산 함수 구현하기"
   ]
  },
  {
   "cell_type": "code",
   "execution_count": 30,
   "metadata": {
    "id": "-LPTKa_PVeVJ"
   },
   "outputs": [],
   "source": [
    "#######################################\n",
    "#### 3-2. 알맞은 코드를 직접 작성해보세요! ####\n",
    "#######################################\n",
    "\n",
    "def forward_loss(X, Y, _params):\n",
    "    W1, B1, W2, B2 = _params\n",
    "\n",
    "    # 첫번째 레이어연산\n",
    "    Z1 = affine(W1, X, B1)    # 1) affine 함수\n",
    "    H = sigmoid(Z1)           # 2) sigmoid 함수\n",
    "\n",
    "    # 두번째 레이어 연산\n",
    "    Z2 = affine(W2, H, B2)    # 3) affine 함수\n",
    "    YHat = sigmoid(Z2)        # 4) sigmoid 함수\n",
    "\n",
    "    # 손실함수 계산\n",
    "    loss = binary_cross_entropy(Y, YHat)  # 5) 이진크로스 엔트로피 함수\n",
    "\n",
    "    return Z1, H, Z2, YHat, loss"
   ]
  },
  {
   "cell_type": "code",
   "execution_count": 31,
   "metadata": {
    "id": "C35-R0w3VeXb"
   },
   "outputs": [
    {
     "name": "stdout",
     "output_type": "stream",
     "text": [
      "Z1: [[0.00037727]\n",
      " [0.2420103 ]]\n",
      "H: [[0.50009432]\n",
      " [0.560209  ]]\n",
      "Z2: [[0.75020481]]\n",
      "YHat: [[0.67922332]]\n",
      "Loss: 0.3868053036181012\n"
     ]
    }
   ],
   "source": [
    "if __name__ == \"__main__\":\n",
    "    # 테스트 값 초기화\n",
    "    X = np.array([[0.5], [0.1]])\n",
    "    Y = np.array([[1]])\n",
    "\n",
    "    # 파라미터 초기화 (num_hidden_units = 2)\n",
    "    W1, B1, W2, B2 = init_parameters(num_hidden_units=2)\n",
    "\n",
    "    # 전방 계산 및 손실 계산\n",
    "    Z1, H, Z2, YHat, loss = forward_loss(X, Y, [W1, B1, W2, B2])\n",
    "\n",
    "    # 중간 결과 출력\n",
    "    print(\"Z1:\", Z1)\n",
    "    print(\"H:\", H)\n",
    "    print(\"Z2:\", Z2)\n",
    "    print(\"YHat:\", YHat)\n",
    "    print(\"Loss:\", loss)"
   ]
  },
  {
   "cell_type": "markdown",
   "metadata": {
    "id": "kVbg3ObvWkDc"
   },
   "source": [
    "### [TODO] 5_ 2레이어 뉴럴네트워크의 역방향 연산 함수 구현하기"
   ]
  },
  {
   "cell_type": "code",
   "execution_count": 32,
   "metadata": {
    "id": "nR_cEhQJWt0v"
   },
   "outputs": [],
   "source": [
    "def get_gradients(X, Y, _params):\n",
    "    W1, B1, W2, B2 = _params\n",
    "    m = X.shape[1]  # 샘플의 수\n",
    "\n",
    "    # Forward 함수 통과 후 출력\n",
    "    Z1, H, Z2, YHat, loss = forward_loss(X, Y, _params)\n",
    "\n",
    "    # 1) dLoss/dZ2 구현. 손실함수가 각 샘플 손실의 평균으로 계산되기 때문에 그대로 구현하였습니다.\n",
    "    dLdZ2 = (1 / m) * (YHat - Y)  # 그림에서 1의 구현\n",
    "\n",
    "    # 2) dLoss/dW2의 구현\n",
    "    dLdW2 = np.dot(dLdZ2, H.T)  # 그림에서 2의 구현 (초록색 2번 참고)\n",
    "\n",
    "    # 3) dLoss/dB2의 구현 - 샘플마다 gradient가 있음. 따라서 합쳐줘야 함.\n",
    "    dLdB2 = np.sum(dLdZ2, axis=1, keepdims=True)  # 그림에서 3의 구현\n",
    "\n",
    "    # 4) dLoss/dH의 구현\n",
    "    dLdH = np.dot(W2.T, dLdZ2)  # 그림에서 4의 구현\n",
    "\n",
    "    # 5) dLoss/dZ1의 구현\n",
    "    dLdZ1 = dLdH * H * (1 - H)  # 그림에서 5의 구현 (초록색 5번 참고)\n",
    "\n",
    "    # 6) dLoss/dW1의 구현\n",
    "    dLdW1 = np.dot(dLdZ1, X.T)  # 그림에서 6의 구현\n",
    "\n",
    "    # 7) dLoss/dB1의 구현\n",
    "    dLdB1 = np.sum(dLdZ1, axis=1, keepdims=True)  # 그림에서 7의 구현\n",
    "\n",
    "    return [dLdW1, dLdB1, dLdW2, dLdB2], loss\n"
   ]
  },
  {
   "cell_type": "markdown",
   "metadata": {
    "id": "uBEv2qM2W8y8"
   },
   "source": [
    "## 3. 모델 학습하기"
   ]
  },
  {
   "cell_type": "code",
   "execution_count": 33,
   "metadata": {
    "id": "NFAI4lcHW_ta"
   },
   "outputs": [],
   "source": [
    "def optimize (X, Y, _params, learning_rate = 0.1, iteration = 1000):\n",
    "\n",
    "    params = np.copy(_params) # 파라미터 복사\n",
    "    loss_trace = [] # 손실 값 저장\n",
    "\n",
    "    for epoch in range(iteration): # 학습 반복\n",
    "        dparams, loss = get_gradients(X, Y, params) # 그레디언트 추출\n",
    "        for param, dparam in zip(params, dparams):\n",
    "            param += - learning_rate * dparam # 경사하강법 구현\n",
    "\n",
    "        if (epoch % 100 == 0): # 손실값 저장\n",
    "            loss_trace.append(loss)\n",
    "\n",
    "    _, _, _, Y_hat_predict, _ = forward_loss(X, Y, params) # 학습된 모델로 추론\n",
    "\n",
    "    return params,loss_trace, Y_hat_predict"
   ]
  },
  {
   "cell_type": "code",
   "execution_count": 34,
   "metadata": {
    "id": "yREbBRV5XEM2"
   },
   "outputs": [
    {
     "name": "stdout",
     "output_type": "stream",
     "text": [
      "[[6.21620551e-04 4.99846111e-01 9.99591612e-01 5.00196568e-01]]\n"
     ]
    }
   ],
   "source": [
    "X = np.array([0, 0, 1, 1, 0, 1, 0, 1]).reshape(2,4) # 입력\n",
    "Y = np.array([0, 1, 1, 0]).reshape(1,4) # 정답\n",
    "\n",
    "params = init_parameters(2) # 파라미터 세팅\n",
    "new_params, loss_trace, Y_hat_predict = optimize(X, Y, params, 0.1, 150000) # 학습 및 추론\n",
    "\n",
    "print(Y_hat_predict) # 정답 Y와 유사한 값이 나왔다면 학습이 잘 진행된 것 입니다."
   ]
  },
  {
   "cell_type": "code",
   "execution_count": 35,
   "metadata": {
    "id": "KlPq2ojTXG8t"
   },
   "outputs": [
    {
     "data": {
      "image/png": "[encoded data removed]",
      "text/plain": [
       "<Figure size 640x480 with 1 Axes>"
      ]
     },
     "metadata": {},
     "output_type": "display_data"
    }
   ],
   "source": [
    "import matplotlib.pyplot as plt\n",
    "\n",
    "# Plot learning curve (with costs)\n",
    "plt.plot(loss_trace)\n",
    "plt.ylabel('loss')\n",
    "plt.xlabel('iterations (per hundreds)')\n",
    "plt.show()"
   ]
  },
  {
   "cell_type": "markdown",
   "metadata": {
    "id": "fd3lAI76XH0u"
   },
   "source": [
    "ALL RIGHTS RESERVED. (C)NAVER Connect Foundation."
   ]
  }
 ],
 "metadata": {
  "colab": {
   "authorship_tag": "ABX9TyN0hcWtkgadbLaObd3bIJRS",
   "provenance": [],
   "toc_visible": true
  },
  "kernelspec": {
   "display_name": "Python 3 (ipykernel)",
   "language": "python",
   "name": "python3"
  },
  "language_info": {
   "codemirror_mode": {
    "name": "ipython",
    "version": 3
   },
   "file_extension": ".py",
   "mimetype": "text/x-python",
   "name": "python",
   "nbconvert_exporter": "python",
   "pygments_lexer": "ipython3",
   "version": "3.9.7"
  }
 },
 "nbformat": 4,
 "nbformat_minor": 4
}
