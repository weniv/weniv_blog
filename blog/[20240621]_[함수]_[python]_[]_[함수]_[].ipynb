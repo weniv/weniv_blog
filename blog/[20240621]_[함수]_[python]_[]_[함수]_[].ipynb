{
  "nbformat": 4,
  "nbformat_minor": 0,
  "metadata": {
    "colab": {
      "provenance": []
    },
    "kernelspec": {
      "name": "python3",
      "display_name": "Python 3"
    },
    "language_info": {
      "name": "python"
    }
  },
  "cells": [
    {
      "cell_type": "markdown",
      "source": [
        "# 함수"
      ],
      "metadata": {
        "id": "t78QSFjvRpNe"
      }
    },
    {
      "cell_type": "markdown",
      "source": [
        "## 1. 함수 정의\n",
        "- def function_name (x,y) ;\n",
        "1. 선언 : def\n",
        "2. 이름 : function_name\n",
        "3. 입력 : x,y (매개변수)"
      ],
      "metadata": {
        "id": "oxDdIyPVQmj7"
      }
    },
    {
      "cell_type": "code",
      "source": [
        "def function_name(x, y):\n",
        "    return x + y\n",
        "\n",
        "function_name(10, 9)"
      ],
      "metadata": {
        "colab": {
          "base_uri": "https://localhost:8080/"
        },
        "id": "J33THyZVR2IZ",
        "outputId": "ecd44694-9475-4ae1-a6a9-6f169d40e5ff"
      },
      "execution_count": null,
      "outputs": [
        {
          "output_type": "execute_result",
          "data": {
            "text/plain": [
              "19"
            ]
          },
          "metadata": {},
          "execution_count": 16
        }
      ]
    },
    {
      "cell_type": "code",
      "source": [
        "## print와 return의 구분\n",
        "def function(x, y):\n",
        "    z = x + y\n",
        "    print(z)\n",
        "print(f'function(5, 7) = {function(5, 7)}')"
      ],
      "metadata": {
        "colab": {
          "base_uri": "https://localhost:8080/"
        },
        "id": "ah2BWcIbSyvx",
        "outputId": "576ac26a-bba7-4373-88d4-7e1c42541094"
      },
      "execution_count": null,
      "outputs": [
        {
          "output_type": "stream",
          "name": "stdout",
          "text": [
            "12\n",
            "function(5, 7) = None\n"
          ]
        }
      ]
    },
    {
      "cell_type": "markdown",
      "source": [
        "## 2. 함수의 아규먼트와 파라미터"
      ],
      "metadata": {
        "id": "xXbUVaMWSiZ2"
      }
    },
    {
      "cell_type": "code",
      "source": [
        "# 파라미터 : 함수를 정의할 때\n",
        "def my_function(x, y):\n",
        "    return x + y\n",
        "# 아규먼트 : 함수를 호출할 떄 전달하는 실제 값\n",
        "result = my_function(5, 3)"
      ],
      "metadata": {
        "id": "idv_262fTArL"
      },
      "execution_count": null,
      "outputs": []
    },
    {
      "cell_type": "markdown",
      "source": [
        "## 3. 지역 변수와 전역 변수\n",
        "- 전역 변수 : 함수 안에서 전역 변수를 global 키워드 없이 수정 x"
      ],
      "metadata": {
        "id": "S6woPoxQV9PQ"
      }
    },
    {
      "cell_type": "code",
      "source": [
        "# 지역 변수\n",
        "def f():\n",
        "    a = 1\n",
        "    print(locals()) # 출력: {'a': 1}\n",
        "\n",
        "f()\n",
        "\n",
        "# 전역 변수\n",
        "a = 100\n",
        "def f():\n",
        "    global a\n",
        "    a = a + 1\n",
        "\n",
        "f()\n",
        "print(a)  # 출력: 101, 함수 f 내에서 전역 변수 a가 수정되었습니다.\n",
        "\n",
        "\"\"\"\n",
        "a = 100\n",
        "def f():\n",
        "    a = a + 1 # error\n",
        "\n",
        "\n",
        "f()\n",
        "print(a)\n",
        "\"\"\""
      ],
      "metadata": {
        "colab": {
          "base_uri": "https://localhost:8080/",
          "height": 72
        },
        "id": "66J_oGAVV8Sg",
        "outputId": "36c18297-510d-4f6a-ef18-730b69362c29"
      },
      "execution_count": null,
      "outputs": [
        {
          "output_type": "stream",
          "name": "stdout",
          "text": [
            "{'a': 1}\n",
            "101\n"
          ]
        },
        {
          "output_type": "execute_result",
          "data": {
            "text/plain": [
              "'\\na = 100\\ndef f():\\n    a = a + 1 # error\\n\\n\\nf()\\nprint(a)\\n'"
            ],
            "application/vnd.google.colaboratory.intrinsic+json": {
              "type": "string"
            }
          },
          "metadata": {},
          "execution_count": 23
        }
      ]
    },
    {
      "cell_type": "code",
      "source": [],
      "metadata": {
        "id": "EyGZdUtPigbQ"
      },
      "execution_count": null,
      "outputs": []
    }
  ]
}